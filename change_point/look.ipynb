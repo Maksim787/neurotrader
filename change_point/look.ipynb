{
 "cells": [
  {
   "cell_type": "code",
   "execution_count": 48,
   "outputs": [],
   "source": [
    "import pandas as pd\n",
    "import numpy as np\n",
    "import matplotlib.pyplot as plt\n"
   ],
   "metadata": {
    "collapsed": false,
    "ExecuteTime": {
     "end_time": "2023-05-24T11:31:40.344435117Z",
     "start_time": "2023-05-24T11:31:40.282245889Z"
    }
   }
  },
  {
   "cell_type": "markdown",
   "source": [
    "## Получим данные Мос.биржи"
   ],
   "metadata": {
    "collapsed": false
   }
  },
  {
   "cell_type": "code",
   "execution_count": 49,
   "outputs": [
    {
     "name": "stderr",
     "output_type": "stream",
     "text": [
      "/tmp/ipykernel_6806/869702920.py:1: FutureWarning: Your version of xlrd is 1.2.0. In xlrd >= 2.0, only the xls format is supported. As a result, the openpyxl engine will be used if it is installed and the engine argument is not specified. Install openpyxl instead.\n",
      "  df = pd.read_excel('../data/EuqityMOEXReturns.xlsx', sheet_name='D')\n"
     ]
    },
    {
     "data": {
      "text/plain": "(899, 69)"
     },
     "execution_count": 49,
     "metadata": {},
     "output_type": "execute_result"
    }
   ],
   "source": [
    "df = pd.read_excel('../data/EuqityMOEXReturns.xlsx', sheet_name='D')\n",
    "df = df.drop(columns=df.columns[df.isna().sum() > len(df) / 2])\n",
    "df = df.dropna()\n",
    "df = df.rename(columns={'Unnamed: 0': 'date'})\n",
    "df['date'] = df['date'].dt.date\n",
    "df = df.sort_values(by='date').reset_index()\n",
    "df_stocks = df.drop(['date'], axis=1)\n",
    "df.shape"
   ],
   "metadata": {
    "collapsed": false,
    "ExecuteTime": {
     "end_time": "2023-05-24T11:31:52.880400019Z",
     "start_time": "2023-05-24T11:31:40.292338369Z"
    }
   }
  },
  {
   "cell_type": "markdown",
   "source": [
    "## Посмотрим на поведение базовой цены"
   ],
   "metadata": {
    "collapsed": false
   }
  },
  {
   "cell_type": "code",
   "execution_count": 50,
   "outputs": [],
   "source": [
    "for _ in range(5):\n",
    "    sample = df_stocks.sample(axis='columns')\n",
    "    plt.plot(df['date'], sample)\n",
    "    plt.title(f\"График цены у {sample.columns[0]}\")\n",
    "    plt.xlabel('День')\n",
    "    plt.ylabel('Значение цены')\n",
    "    plt.show()"
   ],
   "metadata": {
    "collapsed": false,
    "ExecuteTime": {
     "end_time": "2023-05-24T11:31:52.986452340Z",
     "start_time": "2023-05-24T11:31:52.881415346Z"
    }
   }
  },
  {
   "cell_type": "markdown",
   "source": [
    "## Посмотрим на поведение среднего"
   ],
   "metadata": {
    "collapsed": false
   }
  },
  {
   "cell_type": "code",
   "execution_count": 51,
   "outputs": [],
   "source": [
    "for _ in range(5):\n",
    "    sample = df_stocks.sample(axis='columns')\n",
    "    plt.plot(df['date'], sample.rolling(len(df),min_periods=2).mean(), label=sample.columns[0])\n",
    "    name = df_stocks.sample(axis='columns').columns[0]\n",
    "    plt.xlabel('День')\n",
    "    plt.ylabel('Значение среднего')\n",
    "\n",
    "plt.title(f\"Аккумулированное среднее\")\n",
    "plt.show()"
   ],
   "metadata": {
    "collapsed": false,
    "ExecuteTime": {
     "end_time": "2023-05-24T11:31:53.375528660Z",
     "start_time": "2023-05-24T11:31:52.989147696Z"
    }
   }
  },
  {
   "cell_type": "markdown",
   "source": [
    "## Посмотрим на поведение дисперсий"
   ],
   "metadata": {
    "collapsed": false
   }
  },
  {
   "cell_type": "code",
   "execution_count": 52,
   "outputs": [],
   "source": [
    "for _ in range(5):\n",
    "    sample = df_stocks.sample(axis='columns')\n",
    "    plt.plot(df['date'], sample.rolling(len(df),min_periods=2).std())\n",
    "    plt.title(f\"Аккумулированная дисперсия у {sample.columns[0]}\")\n",
    "    name = df_stocks.sample(axis='columns').columns[0]\n",
    "    plt.xlabel('День')\n",
    "    plt.ylabel('Значение дисперсии')\n",
    "    plt.show()"
   ],
   "metadata": {
    "collapsed": false,
    "ExecuteTime": {
     "end_time": "2023-05-24T11:31:53.488819156Z",
     "start_time": "2023-05-24T11:31:53.401247132Z"
    }
   }
  },
  {
   "cell_type": "code",
   "execution_count": 53,
   "outputs": [],
   "source": [
    "for _ in range(5):\n",
    "    sample = df_stocks.sample(axis='columns')\n",
    "    plt.plot(df['date'], sample.rolling(len(df),min_periods=2).std(), label=sample.columns[0])\n",
    "    name = df_stocks.sample(axis='columns').columns[0]\n",
    "    plt.xlabel('День')\n",
    "    plt.ylabel('Значение дисперсии')\n",
    "\n",
    "plt.title(f\"Аккумулированная дисперсия\")\n",
    "plt.show()"
   ],
   "metadata": {
    "collapsed": false,
    "ExecuteTime": {
     "end_time": "2023-05-24T11:31:53.602757486Z",
     "start_time": "2023-05-24T11:31:53.493409273Z"
    }
   }
  },
  {
   "cell_type": "markdown",
   "source": [
    "### Видно, что дисперсия довольно явно скачет. Из чего можно сделать вывод, что разладка случается. Теперь проделаем анализ окном"
   ],
   "metadata": {
    "collapsed": false
   }
  },
  {
   "cell_type": "code",
   "execution_count": 53,
   "outputs": [],
   "source": [],
   "metadata": {
    "collapsed": false,
    "ExecuteTime": {
     "end_time": "2023-05-24T11:31:53.607475716Z",
     "start_time": "2023-05-24T11:31:53.604662354Z"
    }
   }
  },
  {
   "cell_type": "code",
   "execution_count": 54,
   "outputs": [],
   "source": [
    "for _ in range(5):\n",
    "    sample = df_stocks.sample(axis='columns')\n",
    "    plt.plot(df['date'], sample.rolling(100).mean(), label=sample.columns[0])\n",
    "    plt.xlabel('День')\n",
    "    plt.ylabel('Значение среднего')\n",
    "\n",
    "plt.title(f\"Оконное среднее\")\n",
    "plt.show()"
   ],
   "metadata": {
    "collapsed": false,
    "ExecuteTime": {
     "end_time": "2023-05-24T11:31:53.718731341Z",
     "start_time": "2023-05-24T11:31:53.637679735Z"
    }
   }
  },
  {
   "cell_type": "code",
   "execution_count": 55,
   "outputs": [],
   "source": [
    "for _ in range(5):\n",
    "    sample = df_stocks.sample(axis='columns')\n",
    "    plt.plot(df['date'], sample.rolling(100).std(), label=sample.columns[0])\n",
    "    plt.xlabel('День')\n",
    "    plt.ylabel('Значение дисперсии')\n",
    "\n",
    "plt.legend()\n",
    "plt.title(f\"Оконная дисперсия\")\n",
    "plt.show()"
   ],
   "metadata": {
    "collapsed": false,
    "ExecuteTime": {
     "end_time": "2023-05-24T11:31:53.853130065Z",
     "start_time": "2023-05-24T11:31:53.728719484Z"
    }
   }
  },
  {
   "cell_type": "code",
   "execution_count": 56,
   "outputs": [],
   "source": [
    "for _ in range(2):\n",
    "    sample = df_stocks.sample(axis='columns')\n",
    "    plt.plot(df['date'], sample.rolling(3).std(), label=sample.columns[0])\n",
    "    plt.xlabel('День')\n",
    "    plt.ylabel('Значение дисперсии')\n",
    "\n",
    "plt.title(f\"Оконная дисперсия\")\n",
    "plt.show()"
   ],
   "metadata": {
    "collapsed": false,
    "ExecuteTime": {
     "end_time": "2023-05-24T11:31:53.940836428Z",
     "start_time": "2023-05-24T11:31:53.899288070Z"
    }
   }
  },
  {
   "cell_type": "markdown",
   "source": [
    "Итак, видно, что на графике есть моменты когда дисперсия становится как аномально большой, так и аномально маленькой\n",
    "Также видно, что переходы в дисперсии почти мгновенные. Можно попробовать смоделировать ряд и посмотреть, как будут вести себя алгоритмы"
   ],
   "metadata": {
    "collapsed": false
   }
  },
  {
   "cell_type": "markdown",
   "source": [
    "## Сперва проверим, как ведут себя тесты в базовом случае"
   ],
   "metadata": {
    "collapsed": false
   }
  },
  {
   "cell_type": "code",
   "execution_count": 57,
   "outputs": [],
   "source": [
    "import numpy as np\n",
    "\n",
    "mean = [0, 0, 0]\n",
    "covariance_matrix = [[1, 0, 0], [0, 1, 0], [0, 0, 1]]\n",
    "num_samples = 1255\n",
    "\n",
    "multivariate_noise = np.random.multivariate_normal(mean, covariance_matrix, num_samples)"
   ],
   "metadata": {
    "collapsed": false,
    "ExecuteTime": {
     "end_time": "2023-05-24T11:31:53.984843884Z",
     "start_time": "2023-05-24T11:31:53.941204459Z"
    }
   }
  },
  {
   "cell_type": "code",
   "execution_count": 58,
   "outputs": [],
   "source": [
    "from change_point.methods.Quantile import create_sequence_of_quantiles"
   ],
   "metadata": {
    "collapsed": false,
    "ExecuteTime": {
     "end_time": "2023-05-24T11:31:54.019423090Z",
     "start_time": "2023-05-24T11:31:53.985202262Z"
    }
   }
  },
  {
   "cell_type": "code",
   "execution_count": 59,
   "outputs": [],
   "source": [
    "quantile = [*create_sequence_of_quantiles(multivariate_noise, border=0.9)]\n",
    "plt.plot(np.cumsum(quantile), label='test')\n",
    "plt.plot([(1-0.955)*x for x in range(num_samples)], label='ideal')\n",
    "plt.legend()\n",
    "plt.show()"
   ],
   "metadata": {
    "collapsed": false,
    "ExecuteTime": {
     "end_time": "2023-05-24T11:31:54.702071180Z",
     "start_time": "2023-05-24T11:31:54.022038856Z"
    }
   }
  },
  {
   "cell_type": "markdown",
   "source": [
    "Видно, что уровень лжесрабатываний почти полностью совпадает с идеальным"
   ],
   "metadata": {
    "collapsed": false
   }
  },
  {
   "cell_type": "code",
   "execution_count": 60,
   "outputs": [],
   "source": [
    "from change_point.methods.CuSum import create_sequence_of_cusums\n",
    "from tqdm import tqdm"
   ],
   "metadata": {
    "collapsed": false,
    "ExecuteTime": {
     "end_time": "2023-05-24T11:31:54.706679380Z",
     "start_time": "2023-05-24T11:31:54.704608792Z"
    }
   }
  },
  {
   "cell_type": "code",
   "execution_count": 61,
   "outputs": [
    {
     "name": "stderr",
     "output_type": "stream",
     "text": [
      "100%|██████████| 1250/1250 [00:10<00:00, 117.70it/s]\n",
      "100%|██████████| 1250/1250 [00:10<00:00, 116.01it/s]\n",
      "100%|██████████| 1250/1250 [00:10<00:00, 116.38it/s]\n"
     ]
    }
   ],
   "source": [
    "cusum_3 = [*create_sequence_of_cusums(multivariate_noise, border=3.)]\n",
    "cusum_2 = [*create_sequence_of_cusums(multivariate_noise, border=2.)]\n",
    "cusum_1 = [*create_sequence_of_cusums(multivariate_noise, border=1.)]"
   ],
   "metadata": {
    "collapsed": false,
    "ExecuteTime": {
     "end_time": "2023-05-24T11:32:27.733034176Z",
     "start_time": "2023-05-24T11:31:54.708716187Z"
    }
   }
  },
  {
   "cell_type": "code",
   "execution_count": 62,
   "outputs": [],
   "source": [
    "plt.plot(cusum_1, label='test_1')\n",
    "plt.plot(cusum_2, label='test_2')\n",
    "plt.plot(cusum_3, label='test_3')\n",
    "plt.legend()\n",
    "plt.show()"
   ],
   "metadata": {
    "collapsed": false,
    "ExecuteTime": {
     "end_time": "2023-05-24T11:32:27.914491960Z",
     "start_time": "2023-05-24T11:32:27.733312708Z"
    }
   }
  },
  {
   "cell_type": "code",
   "execution_count": 63,
   "outputs": [],
   "source": [
    "from change_point.methods.LambdaMax import create_sequence_of_norms"
   ],
   "metadata": {
    "collapsed": false,
    "ExecuteTime": {
     "end_time": "2023-05-24T11:32:27.962771493Z",
     "start_time": "2023-05-24T11:32:27.916884037Z"
    }
   }
  },
  {
   "cell_type": "code",
   "execution_count": 64,
   "outputs": [
    {
     "name": "stderr",
     "output_type": "stream",
     "text": [
      "100%|██████████| 1225/1225 [00:00<00:00, 3387.52it/s]\n",
      "100%|██████████| 1235/1235 [00:00<00:00, 4352.33it/s]\n",
      "100%|██████████| 1245/1245 [00:00<00:00, 5382.03it/s]\n"
     ]
    }
   ],
   "source": [
    "lambda_30 = [*create_sequence_of_norms(multivariate_noise, 30)]\n",
    "lambda_20 = [*create_sequence_of_norms(multivariate_noise, 20)]\n",
    "lambda_10 = [*create_sequence_of_norms(multivariate_noise, 10)]"
   ],
   "metadata": {
    "collapsed": false,
    "ExecuteTime": {
     "end_time": "2023-05-24T11:32:28.884976900Z",
     "start_time": "2023-05-24T11:32:27.961910782Z"
    }
   }
  },
  {
   "cell_type": "code",
   "execution_count": 65,
   "outputs": [],
   "source": [
    "plt.plot(lambda_10, label='test_10')\n",
    "plt.plot(lambda_20, label='test_20')\n",
    "plt.plot(lambda_30, label='test_30')\n",
    "plt.legend()\n",
    "plt.show()"
   ],
   "metadata": {
    "collapsed": false,
    "ExecuteTime": {
     "end_time": "2023-05-24T11:32:28.925187024Z",
     "start_time": "2023-05-24T11:32:28.887825258Z"
    }
   }
  },
  {
   "cell_type": "code",
   "execution_count": 66,
   "outputs": [],
   "source": [
    "from change_point.methods.COCPD import get_sequence_of_COCPD"
   ],
   "metadata": {
    "collapsed": false,
    "ExecuteTime": {
     "end_time": "2023-05-24T11:32:29.013850043Z",
     "start_time": "2023-05-24T11:32:28.927272202Z"
    }
   }
  },
  {
   "cell_type": "code",
   "execution_count": 67,
   "outputs": [
    {
     "name": "stderr",
     "output_type": "stream",
     "text": [
      "100%|██████████| 15/15 [02:42<00:00, 10.86s/it]\n"
     ]
    }
   ],
   "source": [
    "cocpd = [*get_sequence_of_COCPD(multivariate_noise[:20])]"
   ],
   "metadata": {
    "collapsed": false,
    "ExecuteTime": {
     "end_time": "2023-05-24T11:35:12.421180828Z",
     "start_time": "2023-05-24T11:32:29.014425558Z"
    }
   }
  },
  {
   "cell_type": "code",
   "execution_count": 68,
   "outputs": [],
   "source": [
    "plt.plot(range(8, 20), cocpd[3:], label='COCPD')\n",
    "plt.legend()\n",
    "plt.show()"
   ],
   "metadata": {
    "collapsed": false,
    "ExecuteTime": {
     "end_time": "2023-05-24T11:35:12.428441405Z",
     "start_time": "2023-05-24T11:35:12.421435313Z"
    }
   }
  }
 ],
 "metadata": {
  "kernelspec": {
   "display_name": "Python 3",
   "language": "python",
   "name": "python3"
  },
  "language_info": {
   "codemirror_mode": {
    "name": "ipython",
    "version": 2
   },
   "file_extension": ".py",
   "mimetype": "text/x-python",
   "name": "python",
   "nbconvert_exporter": "python",
   "pygments_lexer": "ipython2",
   "version": "2.7.6"
  }
 },
 "nbformat": 4,
 "nbformat_minor": 0
}
