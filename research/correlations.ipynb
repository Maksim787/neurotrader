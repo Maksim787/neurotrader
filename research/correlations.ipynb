{
 "cells": [
  {
   "cell_type": "code",
   "execution_count": 1,
   "outputs": [],
   "source": [
    "import numpy as np\n",
    "import pandas as pd\n",
    "import matplotlib.pyplot as plt\n",
    "import seaborn as sns\n",
    "import os\n",
    "import datetime\n",
    "from pathlib import Path"
   ],
   "metadata": {
    "collapsed": false
   }
  },
  {
   "cell_type": "markdown",
   "source": [
    "### Load data"
   ],
   "metadata": {
    "collapsed": false
   }
  },
  {
   "cell_type": "code",
   "execution_count": 2,
   "outputs": [
    {
     "name": "stdout",
     "output_type": "stream",
     "text": [
      "245\n"
     ]
    }
   ],
   "source": [
    "day_data_folder = Path('../data/day_data/')\n",
    "assert day_data_folder.exists()\n",
    "tickers = [file.removesuffix('.csv') for file in os.listdir(day_data_folder)]\n",
    "print(len(tickers))\n",
    "\n",
    "dfs = {ticker: pd.read_csv(day_data_folder / f'{ticker}.csv', parse_dates=['TRADEDATE']).dropna() for ticker in tickers}\n",
    "assert len(dfs) == len(tickers)\n",
    "for df in dfs.values():\n",
    "    assert np.all([next(iter(dfs.values())).columns == df.columns])"
   ],
   "metadata": {
    "collapsed": false
   }
  },
  {
   "cell_type": "markdown",
   "source": [
    "### Filter TQBR"
   ],
   "metadata": {
    "collapsed": false
   }
  },
  {
   "cell_type": "code",
   "execution_count": null,
   "outputs": [],
   "source": [
    "def filter_TQBR(dfs: dict[str, pd.DataFrame]) -> dict[str, pd.DataFrame]:\n",
    "    return {ticker: df.copy()[df['BOARDID'] == 'TQBR'] for ticker, df in dfs.items()}\n",
    "\n",
    "\n",
    "dfs = filter_TQBR(dfs)\n",
    "assert np.all([len(df['TRADEDATE']) == len(df['TRADEDATE'].drop_duplicates()) for df in dfs.values()])\n",
    "assert np.all([np.all([df['TRADEDATE'].sort_values() == df['TRADEDATE']]) for df in dfs.values()])"
   ],
   "metadata": {
    "collapsed": false,
    "pycharm": {
     "is_executing": true
    }
   }
  },
  {
   "cell_type": "markdown",
   "source": [
    "### Filter top N stocks with the earliest start date"
   ],
   "metadata": {
    "collapsed": false
   }
  },
  {
   "cell_type": "code",
   "execution_count": null,
   "outputs": [],
   "source": [
    "def get_is_eligible(df: pd.DataFrame, date: datetime.date) -> bool:\n",
    "    return df.iloc[0]['TRADEDATE'] <= pd.to_datetime(date)  # noqa\n",
    "\n",
    "\n",
    "def filter_dfs(dfs: dict[str, pd.DataFrame], n_target_stocks: int, remove_tickers: list[str]) -> dict[str, pd.DataFrame]:\n",
    "    day = datetime.timedelta(days=1)\n",
    "    left = datetime.date(2000, 1, 1)\n",
    "    right = datetime.date.today()\n",
    "    filtered_tickers = list(dfs.keys())\n",
    "    # (left, right]\n",
    "    while left + day != right:\n",
    "        middle = left + (right - left) // 2\n",
    "        is_eligible = [get_is_eligible(dfs[ticker], middle) for ticker in filtered_tickers]\n",
    "        if sum(is_eligible) >= n_target_stocks:\n",
    "            filtered_tickers = [ticker for i, ticker in enumerate(filtered_tickers) if is_eligible[i]]\n",
    "            right = middle\n",
    "        else:\n",
    "            left = middle\n",
    "    if len(filtered_tickers) != n_target_stocks:\n",
    "        assert sum([get_is_eligible(dfs[ticker], left) for ticker in filtered_tickers]) < n_target_stocks\n",
    "        assert sum([get_is_eligible(dfs[ticker], right) for ticker in filtered_tickers]) >= n_target_stocks\n",
    "        assert remove_tickers\n",
    "    filtered_tickers = [ticker for ticker in filtered_tickers if ticker not in remove_tickers]\n",
    "    assert len(filtered_tickers) == n_target_stocks or len(filtered_tickers) == n_target_stocks - len(remove_tickers)\n",
    "    return {ticker: dfs[ticker].copy() for ticker in filtered_tickers}\n",
    "\n",
    "\n",
    "N_TARGET_STOCKS = 31\n",
    "REMOVE_TICKERS = ['IRAO']\n",
    "\n",
    "# N_TARGET_STOCKS = 5\n",
    "# REMOVE_TICKERS = ['HYDR']\n",
    "\n",
    "dfs = filter_dfs(dfs, n_target_stocks=N_TARGET_STOCKS, remove_tickers=REMOVE_TICKERS)\n",
    "print(f'Number of stocks after filtering: {len(dfs)}')\n",
    "print(f'Stocks: {list(dfs.keys())}')"
   ],
   "metadata": {
    "collapsed": false,
    "pycharm": {
     "is_executing": true
    }
   }
  },
  {
   "cell_type": "code",
   "execution_count": null,
   "outputs": [],
   "source": [
    "start_date = max(map(lambda df: df.iloc[0]['TRADEDATE'], dfs.values()))\n",
    "finish_date = min(map(lambda df: df.iloc[-1]['TRADEDATE'], dfs.values()))\n",
    "print(f'From {start_date.strftime(\"%Y-%m-%d\")} to {finish_date.strftime(\"%Y-%m-%d\")}')\n",
    "sns.histplot([df.shape[0] for df in dfs.values()])\n",
    "plt.xlabel('n_observations')\n",
    "plt.show()"
   ],
   "metadata": {
    "collapsed": false,
    "pycharm": {
     "is_executing": true
    }
   }
  },
  {
   "cell_type": "markdown",
   "source": [
    "### Merge DataFrames"
   ],
   "metadata": {
    "collapsed": false
   }
  },
  {
   "cell_type": "code",
   "execution_count": null,
   "outputs": [],
   "source": [
    "def merge_dfs(dfs: dict[str, pd.DataFrame], date_column, price_column: str):\n",
    "    result_df = None\n",
    "    for ticker, df in dfs.items():\n",
    "        df = df.copy().set_index(date_column)\n",
    "        if result_df is None:\n",
    "            result_df = df[[price_column]]\n",
    "            result_df.columns = [ticker]\n",
    "        else:\n",
    "            result_df = result_df.join(df[[price_column]].rename(columns={'CLOSE': ticker}))\n",
    "    return result_df\n",
    "\n",
    "\n",
    "df_price = merge_dfs(dfs, date_column='TRADEDATE', price_column='CLOSE').dropna()\n",
    "assert len(df_price.columns) == len(dfs)\n",
    "print(f'DataFrame size after merge: {len(df_price)}')"
   ],
   "metadata": {
    "collapsed": false,
    "pycharm": {
     "is_executing": true
    }
   }
  },
  {
   "cell_type": "markdown",
   "source": [
    "### Train test split"
   ],
   "metadata": {
    "collapsed": false
   }
  },
  {
   "cell_type": "code",
   "execution_count": null,
   "outputs": [],
   "source": [
    "TEST_RATIO = 0.3\n",
    "test_size = round(len(df_price) * TEST_RATIO)\n",
    "train_size = len(df_price) - test_size\n",
    "df_price_train = df_price.iloc[:-test_size]\n",
    "df_price_test = df_price.iloc[-test_size:]\n",
    "# assert len(df_price_train) == train_size and len(df_price_test) == test_size\n",
    "assert len(set(df_price_test.index) & set(df_price_train.index)) == 0"
   ],
   "metadata": {
    "collapsed": false,
    "pycharm": {
     "is_executing": true
    }
   }
  },
  {
   "cell_type": "code",
   "execution_count": null,
   "outputs": [],
   "source": [
    "ticker = 'SBER'\n",
    "plt.plot(df_price_train[ticker], label='train')\n",
    "plt.plot(df_price_test[ticker], label='test')\n",
    "plt.ylabel('Price')\n",
    "plt.title(ticker)\n",
    "plt.legend(loc='upper left')\n",
    "plt.show()"
   ],
   "metadata": {
    "collapsed": false,
    "pycharm": {
     "is_executing": true
    }
   }
  },
  {
   "cell_type": "markdown",
   "source": [
    "### Return and correlation/covariance matrix calculation"
   ],
   "metadata": {
    "collapsed": false
   }
  },
  {
   "cell_type": "code",
   "execution_count": null,
   "outputs": [],
   "source": [
    "def get_returns_cov_corr(df_price) -> tuple[pd.DataFrame, pd.DataFrame, pd.DataFrame]:\n",
    "    df_returns = df_price.pct_change().dropna()  # p(t) / p(t - 1) - 1\n",
    "    matrix_corr = df_returns.corr()\n",
    "    matrix_cov = df_returns.cov()\n",
    "    assert matrix_corr.shape == matrix_cov.shape == (df_returns.shape[1], df_returns.shape[1])\n",
    "    return df_returns, matrix_cov, matrix_corr"
   ],
   "metadata": {
    "collapsed": false,
    "pycharm": {
     "is_executing": true
    }
   }
  },
  {
   "cell_type": "code",
   "execution_count": null,
   "outputs": [],
   "source": [
    "df_returns_train, matrix_cov_train, matrix_corr_train = get_returns_cov_corr(df_price_train)"
   ],
   "metadata": {
    "collapsed": false,
    "pycharm": {
     "is_executing": true
    }
   }
  },
  {
   "cell_type": "code",
   "execution_count": null,
   "outputs": [],
   "source": [
    "fig, (ax1, ax2) = plt.subplots(1, 2)\n",
    "fig.set_figwidth(15)\n",
    "fig.set_figheight(5)\n",
    "for matrix, title, ax in [(matrix_corr_train, 'Correlation', ax1), (matrix_cov_train, 'Covariance', ax2)]:\n",
    "    sns.heatmap(matrix, cmap='Blues', ax=ax)\n",
    "    ax.set_title(f'{title} matrix')\n",
    "plt.show()"
   ],
   "metadata": {
    "collapsed": false,
    "pycharm": {
     "is_executing": true
    }
   }
  },
  {
   "cell_type": "code",
   "execution_count": null,
   "outputs": [],
   "source": [
    "sns.barplot(x=matrix_cov_train.index, y=np.sqrt(np.diagonal(matrix_cov_train.values)))\n",
    "plt.title('Standard deviation of stocks in dataset')\n",
    "plt.ylabel('Standard deviation')\n",
    "plt.xticks(rotation=90)\n",
    "plt.show()"
   ],
   "metadata": {
    "collapsed": false,
    "pycharm": {
     "is_executing": true
    }
   }
  },
  {
   "cell_type": "markdown",
   "source": [
    "### Markowitz portfolio optimization"
   ],
   "metadata": {
    "collapsed": false
   }
  },
  {
   "cell_type": "code",
   "execution_count": null,
   "outputs": [],
   "source": [
    "def markowitz(df_price: pd.DataFrame, mu: float) -> pd.Series:\n",
    "    n_assets = len(df_price.columns)\n",
    "    df_returns, matrix_cov, matrix_corr = get_returns_cov_corr(df_price_train)\n",
    "    returns = df_returns.values.mean(axis=0).reshape(-1, 1)\n",
    "    sigma = matrix_cov.values\n",
    "    ones = np.ones((n_assets, 1))\n",
    "    zeros = np.zeros((1, 1))\n",
    "    X = np.block([[2 * sigma, -returns, -ones],\n",
    "                  [returns.T, zeros, zeros],\n",
    "                  [ones.T, zeros, zeros]])\n",
    "    assert X.shape[0] == X.shape[1]\n",
    "    assert X.shape[0] == n_assets + 2\n",
    "    b = np.array([0.0] * n_assets + [mu, 1.0]).reshape(-1, 1)\n",
    "    assert X.shape[0] == b.shape[0]\n",
    "    x = np.linalg.solve(X, b).reshape(-1)\n",
    "    assert x.shape[0] == n_assets + 2\n",
    "    w = x[:n_assets]\n",
    "    lambda_1 = x[n_assets]\n",
    "    lambda_2 = x[n_assets + 1]\n",
    "    w = pd.Series(w, df_price.columns)\n",
    "    w = w / np.linalg.norm(w, ord=1)\n",
    "    assert np.isclose(np.linalg.norm(w, ord=1), 1.0)\n",
    "    return w"
   ],
   "metadata": {
    "collapsed": false,
    "pycharm": {
     "is_executing": true
    }
   }
  },
  {
   "cell_type": "code",
   "execution_count": null,
   "outputs": [],
   "source": [
    "w_train = markowitz(df_price_train, 0.0)\n",
    "assert len(w_train.shape) == 1\n",
    "w_equal = w_train.copy()\n",
    "w_equal = pd.Series(np.full_like(w_equal, fill_value=1 / w_equal.shape[0]), w_equal.index)\n",
    "\n",
    "sns.barplot(x=df_price_train.columns, y=w_train)\n",
    "plt.ylabel('Weight')\n",
    "plt.xticks(rotation=90)\n",
    "plt.show()"
   ],
   "metadata": {
    "collapsed": false,
    "pycharm": {
     "is_executing": true
    }
   }
  },
  {
   "cell_type": "markdown",
   "source": [
    "### Comparison between Markowitz and Equal strategies"
   ],
   "metadata": {
    "collapsed": false
   }
  },
  {
   "cell_type": "code",
   "execution_count": null,
   "outputs": [],
   "source": [
    "def get_portfolio_returns(df_price: pd.DataFrame, w: pd.Series, label: str) -> pd.Series:\n",
    "    n_assets = len(df_price.columns)\n",
    "    df_returns, matrix_cov, matrix_corr = get_returns_cov_corr(df_price)\n",
    "    assert df_returns.shape[1] == n_assets\n",
    "    assert np.all(w.index == df_price.columns)\n",
    "    # at t we decide to allocate w rubles to each asset\n",
    "    # then we get the return p(t + 1) / p(t) - 1\n",
    "    portfolio_returns = df_returns @ w  # df_return is p(t) / p(t - 1) - 1\n",
    "    portfolio_returns_pct = portfolio_returns * 100\n",
    "    print(f'{label} portfolio returns: {portfolio_returns_pct.mean():.10f}% ± {portfolio_returns_pct.std():.3f}%')\n",
    "    return portfolio_returns\n",
    "\n",
    "\n",
    "def plot_portfolio_value(portfolio_returns: pd.Series, start_point: float, label: str):\n",
    "    # Plot portfolio value\n",
    "    cumulative_returns = start_point + np.cumsum(portfolio_returns)\n",
    "    plt.plot(cumulative_returns * 100, label=label)\n",
    "    plt.title('Portfolio value')\n",
    "    plt.ylabel('Change, %')\n",
    "\n",
    "\n",
    "def plot_portfolio_returns_hist(portfolio_returns: pd.Series, label: str):\n",
    "    # Plot portfolio returns histogram\n",
    "    plt.gcf().set_figwidth(11)\n",
    "    sns.histplot(portfolio_returns * 100, stat='density', label=label, legend=False, alpha=0.7)\n",
    "    plt.xlabel('Return, %')\n"
   ],
   "metadata": {
    "collapsed": false,
    "pycharm": {
     "is_executing": true
    }
   }
  },
  {
   "cell_type": "code",
   "execution_count": null,
   "outputs": [],
   "source": [
    "portfolio_returns_markowitz_train = get_portfolio_returns(df_price_train, w_train, 'Train Markowitz')\n",
    "portfolio_returns_equal_train = get_portfolio_returns(df_price_train, w_equal, 'Train Equal')\n",
    "print()\n",
    "portfolio_returns_markowitz_test = get_portfolio_returns(df_price_test, w_train, 'Test Markowitz')\n",
    "portfolio_returns_equal_test = get_portfolio_returns(df_price_test, w_equal, 'Test Equal')"
   ],
   "metadata": {
    "collapsed": false,
    "pycharm": {
     "is_executing": true
    }
   }
  },
  {
   "cell_type": "code",
   "execution_count": null,
   "outputs": [],
   "source": [
    "plot_portfolio_value(portfolio_returns_markowitz_train, 0.0, 'Train Markowitz')\n",
    "start_point_markowitz_test = portfolio_returns_markowitz_train.sum()\n",
    "plot_portfolio_value(portfolio_returns_markowitz_test, start_point_markowitz_test, 'Test Markowitz')\n",
    "\n",
    "plot_portfolio_value(portfolio_returns_equal_train, 0.0, 'Train Equal')\n",
    "start_point_equal_test = portfolio_returns_equal_train.sum()\n",
    "plot_portfolio_value(portfolio_returns_equal_test, start_point_equal_test, 'Test Equal')\n",
    "\n",
    "plt.axhline(start_point_markowitz_test * 100, color='C4', label=f'Test Markowitz start: {start_point_markowitz_test * 100:.3f}%', linestyle='dashed')\n",
    "plt.axhline(start_point_equal_test * 100, color='C5', label=f'Test Equal start: {start_point_equal_test * 100:.3f}%', linestyle='dashed')\n",
    "\n",
    "plt.axvline(df_price_test.index[0], linestyle='dashed', color='C6')\n",
    "\n",
    "plt.legend()\n",
    "plt.show()"
   ],
   "metadata": {
    "collapsed": false,
    "pycharm": {
     "is_executing": true
    }
   }
  },
  {
   "cell_type": "code",
   "execution_count": null,
   "outputs": [],
   "source": [
    "def plot_portfolio_returns_train_test(portfolio_returns_train: pd.Series, portfolio_returns_test: pd.Series, label: str):\n",
    "    plot_portfolio_returns_hist(\n",
    "        portfolio_returns_train.clip(\n",
    "            lower=portfolio_returns_train.quantile(0.01),\n",
    "            upper=portfolio_returns_train.quantile(0.99)\n",
    "        ),\n",
    "        label=f'Train {label}'\n",
    "    )\n",
    "\n",
    "    plot_portfolio_returns_hist(\n",
    "        portfolio_returns_test.clip(\n",
    "            lower=portfolio_returns_test.quantile(0.01),\n",
    "            upper=portfolio_returns_test.quantile(0.99)\n",
    "        ),\n",
    "        label=f'Test {label}'\n",
    "    )\n",
    "\n",
    "\n",
    "plot_portfolio_returns_train_test(portfolio_returns_markowitz_train, portfolio_returns_markowitz_test, label='Markowitz')\n",
    "plot_portfolio_returns_train_test(portfolio_returns_equal_train, portfolio_returns_equal_test, label='Equal')\n",
    "plt.legend()\n",
    "plt.show()"
   ],
   "metadata": {
    "collapsed": false,
    "pycharm": {
     "is_executing": true
    }
   }
  },
  {
   "cell_type": "code",
   "execution_count": null,
   "outputs": [],
   "source": [],
   "metadata": {
    "collapsed": false,
    "pycharm": {
     "is_executing": true
    }
   }
  }
 ],
 "metadata": {
  "kernelspec": {
   "display_name": "Python 3",
   "language": "python",
   "name": "python3"
  },
  "language_info": {
   "codemirror_mode": {
    "name": "ipython",
    "version": 2
   },
   "file_extension": ".py",
   "mimetype": "text/x-python",
   "name": "python",
   "nbconvert_exporter": "python",
   "pygments_lexer": "ipython2",
   "version": "2.7.6"
  }
 },
 "nbformat": 4,
 "nbformat_minor": 0
}
