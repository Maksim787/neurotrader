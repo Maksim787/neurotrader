{
 "cells": [
  {
   "cell_type": "code",
   "execution_count": null,
   "metadata": {
    "collapsed": true
   },
   "outputs": [],
   "source": [
    "from ydata_synthetic.preprocessing.timeseries.utils import real_data_loading\n",
    "import pandas as pd\n",
    "\n",
    "file_path = \"./data/energy_data.csv\"\n",
    "energy_df = pd.read_csv(file_path)\n",
    "\n",
    "try:\n",
    "    energy_df = energy_df.set_index('Date').sort_index()\n",
    "except:\n",
    "    energy_df=energy_df\n",
    "\n",
    "# Data transformations to be applied prior to be used with the synthesizer model\n",
    "energy_data = real_data_loading(energy_df.values, seq_len=seq_len)\n",
    "\n",
    "print(len(energy_data), energy_data[0].shape)"
   ]
  },
  {
   "cell_type": "code",
   "execution_count": 1,
   "outputs": [
    {
     "ename": "SyntaxError",
     "evalue": "invalid syntax (604839399.py, line 1)",
     "output_type": "error",
     "traceback": [
      "\u001B[0;36m  Cell \u001B[0;32mIn[1], line 1\u001B[0;36m\u001B[0m\n\u001B[0;31m    import ydata-synthetic\u001B[0m\n\u001B[0m                ^\u001B[0m\n\u001B[0;31mSyntaxError\u001B[0m\u001B[0;31m:\u001B[0m invalid syntax\n"
     ]
    }
   ],
   "source": [
    "import ydata-synthetic"
   ],
   "metadata": {
    "collapsed": false
   }
  }
 ],
 "metadata": {
  "kernelspec": {
   "display_name": "Python 3",
   "language": "python",
   "name": "python3"
  },
  "language_info": {
   "codemirror_mode": {
    "name": "ipython",
    "version": 2
   },
   "file_extension": ".py",
   "mimetype": "text/x-python",
   "name": "python",
   "nbconvert_exporter": "python",
   "pygments_lexer": "ipython2",
   "version": "2.7.6"
  }
 },
 "nbformat": 4,
 "nbformat_minor": 0
}
